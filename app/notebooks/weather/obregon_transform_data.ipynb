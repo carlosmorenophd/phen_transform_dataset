{
 "cells": [
  {
   "cell_type": "code",
   "execution_count": 60,
   "metadata": {},
   "outputs": [
    {
     "name": "stdout",
     "output_type": "stream",
     "text": [
      "The autoreload extension is already loaded. To reload it, use:\n",
      "  %reload_ext autoreload\n"
     ]
    }
   ],
   "source": [
    "%load_ext autoreload\n",
    "%autoreload 2"
   ]
  },
  {
   "cell_type": "code",
   "execution_count": 61,
   "metadata": {},
   "outputs": [],
   "source": [
    "import os\n",
    "import sys\n",
    "\n",
    "module_path = os.path.abspath(os.path.join(\"../../\"))\n",
    "if module_path not in sys.path:\n",
    "    sys.path.append(module_path)"
   ]
  },
  {
   "cell_type": "markdown",
   "metadata": {},
   "source": [
    "Select and load the data"
   ]
  },
  {
   "cell_type": "code",
   "execution_count": 62,
   "metadata": {},
   "outputs": [
    {
     "name": "stdout",
     "output_type": "stream",
     "text": [
      "/home/yeiden/repo/transform_dataset_phen/app/notebooks/weather\n"
     ]
    }
   ],
   "source": [
    "from weather.csv.csv_extracted import WeatherSourceCSV\n",
    "from weather.csv.enum import GroupByDateEnum, OperationToGroupEnum\n",
    "\n",
    "print(os.getcwd())\n",
    "file = WeatherSourceCSV(file_path=\"../../../data/obregon/weather_151617_obregon.csv\", column_date=\"Date\")"
   ]
  },
  {
   "cell_type": "markdown",
   "metadata": {},
   "source": [
    "Get the new data from file"
   ]
  },
  {
   "cell_type": "code",
   "execution_count": 66,
   "metadata": {},
   "outputs": [],
   "source": [
    "file.transform_date(\n",
    "    start=\"2016-09-01\", \n",
    "    end=\"2016-09-03\",\n",
    "    group_by=GroupByDateEnum.DAY,\n",
    "    operation_group=OperationToGroupEnum.AVG,\n",
    "    is_debug=False,\n",
    ")\n",
    "\n",
    "file.save_extract(file_path=\"test_one_month.csv\")"
   ]
  },
  {
   "cell_type": "code",
   "execution_count": 70,
   "metadata": {},
   "outputs": [],
   "source": [
    "file.save_transform(file_path=\"test_transform_month.csv\")"
   ]
  }
 ],
 "metadata": {
  "kernelspec": {
   "display_name": "venv",
   "language": "python",
   "name": "python3"
  },
  "language_info": {
   "codemirror_mode": {
    "name": "ipython",
    "version": 3
   },
   "file_extension": ".py",
   "mimetype": "text/x-python",
   "name": "python",
   "nbconvert_exporter": "python",
   "pygments_lexer": "ipython3",
   "version": "3.12.2"
  }
 },
 "nbformat": 4,
 "nbformat_minor": 2
}
