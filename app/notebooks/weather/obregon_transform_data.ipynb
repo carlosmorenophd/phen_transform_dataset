{
 "cells": [
  {
   "cell_type": "code",
   "execution_count": 28,
   "metadata": {},
   "outputs": [
    {
     "name": "stdout",
     "output_type": "stream",
     "text": [
      "The autoreload extension is already loaded. To reload it, use:\n",
      "  %reload_ext autoreload\n"
     ]
    }
   ],
   "source": [
    "%load_ext autoreload\n",
    "%autoreload 2"
   ]
  },
  {
   "cell_type": "code",
   "execution_count": 29,
   "metadata": {},
   "outputs": [],
   "source": [
    "import os\n",
    "import sys\n",
    "\n",
    "module_path = os.path.abspath(os.path.join(\"../../\"))\n",
    "if module_path not in sys.path:\n",
    "    sys.path.append(module_path)"
   ]
  },
  {
   "cell_type": "markdown",
   "metadata": {},
   "source": [
    "Select and load the data"
   ]
  },
  {
   "cell_type": "code",
   "execution_count": 30,
   "metadata": {},
   "outputs": [
    {
     "name": "stdout",
     "output_type": "stream",
     "text": [
      "/home/yeiden/repo/transform_dataset_phen/app/notebooks/weather\n"
     ]
    }
   ],
   "source": [
    "from weather.csv.csv_extracted import WeatherSourceCSV\n",
    "from weather.csv.enum import GroupByDateEnum, OperationToGroupEnum\n",
    "\n",
    "print(os.getcwd())\n",
    "file = WeatherSourceCSV(file_path=\"../../../data/obregon/weather_151617_obregon.csv\", column_date=\"Date\")"
   ]
  },
  {
   "cell_type": "markdown",
   "metadata": {},
   "source": [
    "### Get the weather for first experiment 2016"
   ]
  },
  {
   "cell_type": "code",
   "execution_count": 31,
   "metadata": {},
   "outputs": [],
   "source": [
    "file.transform_date(\n",
    "    start=\"2015-12-06\", \n",
    "    end=\"2016-02-16\",\n",
    "    group_by=GroupByDateEnum.DAY,\n",
    "    operation_group=OperationToGroupEnum.AVG,\n",
    "    is_debug=False,\n",
    ")\n",
    "\n",
    "file.save_transform(file_path=\"test_first_2016.csv\")"
   ]
  },
  {
   "cell_type": "markdown",
   "metadata": {},
   "source": [
    "### Get weather from second experiments 2017"
   ]
  },
  {
   "cell_type": "code",
   "execution_count": null,
   "metadata": {},
   "outputs": [],
   "source": [
    "file.transform_date(\n",
    "    start=\"2016-12-25\", \n",
    "    end=\"2017-03-07\",\n",
    "    group_by=GroupByDateEnum.DAY,\n",
    "    operation_group=OperationToGroupEnum.AVG,\n",
    "    is_debug=False,\n",
    ")\n",
    "\n",
    "file.save_transform(file_path=\"test_second_2017.csv\")"
   ]
  }
 ],
 "metadata": {
  "kernelspec": {
   "display_name": "venv",
   "language": "python",
   "name": "python3"
  },
  "language_info": {
   "codemirror_mode": {
    "name": "ipython",
    "version": 3
   },
   "file_extension": ".py",
   "mimetype": "text/x-python",
   "name": "python",
   "nbconvert_exporter": "python",
   "pygments_lexer": "ipython3",
   "version": "3.12.2"
  }
 },
 "nbformat": 4,
 "nbformat_minor": 2
}
